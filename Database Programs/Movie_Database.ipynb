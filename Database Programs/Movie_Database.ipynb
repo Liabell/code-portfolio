{
 "cells": [
  {
   "cell_type": "markdown",
   "id": "8ad44102",
   "metadata": {},
   "source": [
    "# CSE 4020 - Database Systems\n",
    "## Activity 1 - Spring 2023\n",
    "#### Name: Liam Dumbell\n",
    "## Question 1:  Create a DDL file based on the following ER diagram (You may use dbdiagram.io as demonstrated in class or you may create the tables manually). Make sure to represent the keys (primary and foreign) in your DDL. Add yourDDL file as Markdown color-coded SQL statements to your notebook."
   ]
  },
  {
   "cell_type": "markdown",
   "id": "e9ec9ab1",
   "metadata": {},
   "source": [
    "```sql\n",
    "drop database if exists imdb_movies;\n",
    "create database imdb_movies;\n",
    "\n",
    "use imdb_movies;\n",
    "create table directors (\n",
    "  id INT(11),\n",
    "  first_name VARCHAR(100),\n",
    "  last_name VARCHAR(100),\n",
    "  primary key (id)\n",
    ");\n",
    "\n",
    "create table directors_genres (\n",
    "  director_id INT(11),\n",
    "  genre VARCHAR(100),\n",
    "  prob FLOAT,\n",
    "  primary key (director_id, genre),\n",
    "  foreign key (director_id) references directors (id) on delete cascade\n",
    ");\n",
    "\n",
    "create table movies (\n",
    "  id INT(11),\n",
    "  name VARCHAR(100),\n",
    "  year INT(11),\n",
    "  `rank` FLOAT, -- backticks used to avoid issue that rank is a reserved word\n",
    "  primary key (id)\n",
    ");\n",
    "\n",
    "create table actors (\n",
    "  id INT(11),\n",
    "  first_name VARCHAR(100),\n",
    "  last_name VARCHAR(100),\n",
    "  gender CHAR(1),\n",
    "  primary key (id)\n",
    ");\n",
    "\n",
    "create table roles (\n",
    "  actor_id INT(11),\n",
    "  movie_id INT(11),\n",
    "  role VARCHAR(100),\n",
    "  primary key (role, actor_id, movie_id),\n",
    "  foreign key (actor_id) references actors (id) on delete cascade,\n",
    "  foreign key (movie_id) references movies (id) on delete cascade\n",
    ");\n",
    "\n",
    "create table movies_genres (\n",
    "  movie_id INT(11),\n",
    "  genre VARCHAR(100),\n",
    "  primary key (genre, movie_id),\n",
    "  foreign key (movie_id) references movies (id) on delete cascade\n",
    ");\n",
    "\n",
    "create table movies_directors (\n",
    "  director_id INT(11),\n",
    "  movie_id INT(11),\n",
    "  primary key (movie_id, director_id),\n",
    "  foreign key (movie_id) references movies (id) on delete cascade,\n",
    "  foreign key (director_id) references directors (id) on delete cascade\n",
    ");\n",
    "```"
   ]
  },
  {
   "cell_type": "markdown",
   "id": "0f78362c",
   "metadata": {},
   "source": [
    "## Question 2:  In a Jupyter Notebook, write code either in Python, Java or C, or another imperative language, to create a database named imdb_movies; then use code to connect to your DB instance and create each of the tables in your DDL file. Do not rename the tables or any attributes in the ER diagram. (Language Chosen: Python)"
   ]
  },
  {
   "cell_type": "code",
   "execution_count": 5,
   "id": "599b026f",
   "metadata": {},
   "outputs": [],
   "source": [
    "import mysql.connector\n",
    "def batch_execute_ddl(conn, ddl_file_path): # connection\n",
    "    cursor = conn.cursor()\n",
    "    ddl_file = open(ddl_file_path)\n",
    "    sql = ddl_file.read()\n",
    "    \n",
    "    for result in cursor.execute(sql, multi=True): # remove multi if you're executing 1 statement\n",
    "        if result.with_rows:\n",
    "            print(f\"Rows returned: {result.statement}\")\n",
    "            print(result.fetchall())\n",
    "        else:\n",
    "            print(f\"Number of rows affected by statement {result.statement}: {result.rowcount}\")\n",
    "    conn.close()\n",
    "    ddl_file.close()"
   ]
  },
  {
   "cell_type": "code",
   "execution_count": 6,
   "id": "ff76f08b",
   "metadata": {},
   "outputs": [
    {
     "name": "stdout",
     "output_type": "stream",
     "text": [
      "Number of rows affected by statement drop database if exists imdb_movies: 7\n",
      "Number of rows affected by statement create database imdb_movies: 1\n",
      "Number of rows affected by statement use imdb_movies: 0\n",
      "Number of rows affected by statement create table directors (\n",
      "  id INT(11),\n",
      "  first_name VARCHAR(100),\n",
      "  last_name VARCHAR(100),\n",
      "  primary key (id)\n",
      "): 0\n",
      "Number of rows affected by statement create table directors_genres (\n",
      "  director_id INT(11),\n",
      "  genre VARCHAR(100),\n",
      "  prob FLOAT,\n",
      "  primary key (director_id, genre),\n",
      "  foreign key (director_id) references directors (id) on delete cascade\n",
      "): 0\n",
      "Number of rows affected by statement create table movies (\n",
      "  id INT(11),\n",
      "  name VARCHAR(100),\n",
      "  year INT(11),\n",
      "  `rank` FLOAT, -- backticks used to avoid issue that rank is a reserved word\n",
      "  primary key (id)\n",
      "): 0\n",
      "Number of rows affected by statement create table actors (\n",
      "  id INT(11),\n",
      "  first_name VARCHAR(100),\n",
      "  last_name VARCHAR(100),\n",
      "  gender CHAR(1),\n",
      "  primary key (id)\n",
      "): 0\n",
      "Number of rows affected by statement create table roles (\n",
      "  actor_id INT(11),\n",
      "  movie_id INT(11),\n",
      "  role VARCHAR(100),\n",
      "  primary key (role, actor_id, movie_id),\n",
      "  foreign key (actor_id) references actors (id) on delete cascade,\n",
      "  foreign key (movie_id) references movies (id) on delete cascade\n",
      "): 0\n",
      "Number of rows affected by statement create table movies_genres (\n",
      "  movie_id INT(11),\n",
      "  genre VARCHAR(100),\n",
      "  primary key (genre, movie_id),\n",
      "  foreign key (movie_id) references movies (id) on delete cascade\n",
      "): 0\n",
      "Number of rows affected by statement create table movies_directors (\n",
      "  director_id INT(11),\n",
      "  movie_id INT(11),\n",
      "  primary key (movie_id, director_id),\n",
      "  foreign key (movie_id) references movies (id) on delete cascade,\n",
      "  foreign key (director_id) references directors (id) on delete cascade\n",
      "): 0\n"
     ]
    }
   ],
   "source": [
    "import mysql.connector\n",
    "def main():\n",
    "    host = 'localhost'\n",
    "    user = 'root'\n",
    "    password = open(\"credentials.txt\").read() # contains password\n",
    "    conn = mysql.connector.connect(host=host, \n",
    "                                   user=user,\n",
    "                                   password=password)\n",
    "    ddl_file_path = \"imdb_movies.sql\"\n",
    "    \n",
    "    batch_execute_ddl(conn, ddl_file_path)\n",
    "    \n",
    "main()"
   ]
  },
  {
   "cell_type": "markdown",
   "id": "bbad9e2a",
   "metadata": {},
   "source": [
    "## Question 3:  Write code using the language chosen in question 2 above to connect to your DB instance and insert the data from each of the CSV files provided on Canvas into the your imdb_movies database. Display the number of rows affected for each table (1 cumulative count for all inserts per table - example: 388269 rows inserted for table movies)."
   ]
  },
  {
   "cell_type": "code",
   "execution_count": 7,
   "id": "475719ae",
   "metadata": {},
   "outputs": [],
   "source": [
    "import csv\n",
    "def download_actors(conn):\n",
    "    cursor = conn.cursor()\n",
    "    count = 0\n",
    "\n",
    "    with open(\"data/imdb_ddl/actors.sql\", \"r\", encoding=\"UTF-8\") as file:\n",
    "        for line in file:\n",
    "            cursor.execute(line)\n",
    "        cursor.execute(\"SELECT COUNT(*) AS NumRowsInserted FROM actors\")\n",
    "        count += cursor.fetchone()[0]\n",
    "    conn.commit()\n",
    "    print(count, \"rows inserted for table actors\")"
   ]
  },
  {
   "cell_type": "code",
   "execution_count": 8,
   "id": "b5986492",
   "metadata": {},
   "outputs": [],
   "source": [
    "import csv\n",
    "def download_directors(conn):\n",
    "    cursor = conn.cursor()\n",
    "    count = 0\n",
    "\n",
    "    with open(\"data/imdb_ddl/directors.sql\", \"r\", encoding=\"UTF-8\") as file:\n",
    "        for line in file:\n",
    "            cursor.execute(line)\n",
    "        cursor.execute(\"SELECT COUNT(*) AS NumRowsInserted FROM directors\")\n",
    "        count += cursor.fetchone()[0]\n",
    "    conn.commit()\n",
    "    print(count, \"rows inserted for table directors\")"
   ]
  },
  {
   "cell_type": "code",
   "execution_count": 9,
   "id": "3c5d16ce",
   "metadata": {},
   "outputs": [],
   "source": [
    "import csv\n",
    "def download_directors_genres(conn):\n",
    "    cursor = conn.cursor()\n",
    "    count = 0\n",
    "\n",
    "    with open(\"data/imdb_ddl/directors_genres.sql\", \"r\", encoding=\"UTF-8\") as file:\n",
    "        for line in file:\n",
    "            cursor.execute(line)\n",
    "        cursor.execute(\"SELECT COUNT(*) AS NumRowsInserted FROM directors_genres\")\n",
    "        count += cursor.fetchone()[0]\n",
    "    conn.commit()\n",
    "    print(count, \"rows inserted for table directors_genres\")"
   ]
  },
  {
   "cell_type": "code",
   "execution_count": 10,
   "id": "b3fe0425",
   "metadata": {},
   "outputs": [],
   "source": [
    "import csv\n",
    "def download_movies(conn):\n",
    "    cursor = conn.cursor()\n",
    "    count = 0\n",
    "\n",
    "    with open(\"data/imdb_ddl/movies.sql\", \"r\", encoding=\"UTF-8\") as file:\n",
    "        for line in file:\n",
    "            cursor.execute(line)\n",
    "        cursor.execute(\"SELECT COUNT(*) AS NumRowsInserted FROM movies\")\n",
    "        count += cursor.fetchone()[0]\n",
    "    conn.commit()\n",
    "    print(count, \"rows inserted for table movies\")"
   ]
  },
  {
   "cell_type": "code",
   "execution_count": 19,
   "id": "c295311f",
   "metadata": {},
   "outputs": [],
   "source": [
    "import csv\n",
    "def download_movies_directors(conn):\n",
    "    cursor = conn.cursor()\n",
    "    count = 0\n",
    "\n",
    "    with open(\"data/imdb_ddl/movies_directors.sql\", \"r\", encoding=\"UTF-8\") as file:\n",
    "        for line in file:\n",
    "            cursor.execute(line)\n",
    "        cursor.execute(\"SELECT COUNT(*) AS NumRowsInserted FROM movies_directors\")\n",
    "        count += cursor.fetchone()[0]\n",
    "    conn.commit()\n",
    "    print(count, \"rows inserted for table movies_directors\")"
   ]
  },
  {
   "cell_type": "code",
   "execution_count": 12,
   "id": "7cea66e7",
   "metadata": {},
   "outputs": [],
   "source": [
    "import csv\n",
    "def download_movies_genres(conn):\n",
    "    cursor = conn.cursor()\n",
    "    count = 0\n",
    "\n",
    "    with open(\"data/imdb_ddl/movies_genres.sql\", \"r\", encoding=\"UTF-8\") as file:\n",
    "        for line in file:\n",
    "            cursor.execute(line)\n",
    "        cursor.execute(\"SELECT COUNT(*) AS NumRowsInserted FROM movies_genres\")\n",
    "        count += cursor.fetchone()[0]\n",
    "    conn.commit()\n",
    "    print(count, \"rows inserted for table movies_genres\")"
   ]
  },
  {
   "cell_type": "code",
   "execution_count": 13,
   "id": "468fb1e3",
   "metadata": {},
   "outputs": [],
   "source": [
    "import csv\n",
    "from mysql.connector.errors import IntegrityError\n",
    "def download_roles(conn):\n",
    "    cursor = conn.cursor()\n",
    "    count = 0\n",
    "    line_count = 1\n",
    "\n",
    "    with open(\"data/imdb_ddl/roles.sql\", \"r\", encoding=\"UTF-8\") as file:\n",
    "        for line in file:\n",
    "            cursor.execute(line)\n",
    "        cursor.execute(\"SELECT COUNT(*) AS NumRowsInserted FROM roles\")\n",
    "        count += cursor.fetchone()[0]\n",
    "    conn.commit()\n",
    "    print(count, \"rows inserted for table roles\")"
   ]
  },
  {
   "cell_type": "code",
   "execution_count": 14,
   "id": "6b3fafc4",
   "metadata": {},
   "outputs": [
    {
     "name": "stdout",
     "output_type": "stream",
     "text": [
      "817718 rows inserted for table actors\n",
      "86880 rows inserted for table directors\n",
      "388269 rows inserted for table movies\n",
      "395119 rows inserted for table movies_genres\n",
      "156562 rows inserted for table directors_genres\n",
      "301873 rows inserted for table movies_directors\n",
      "3431966 rows inserted for table roles\n"
     ]
    }
   ],
   "source": [
    "import mysql.connector\n",
    "from mysql.connector.errors import IntegrityError\n",
    "def main():\n",
    "    host = 'localhost'\n",
    "    user = 'root'\n",
    "    database_name = 'imdb_movies'\n",
    "    ddl_file_path = 'imdb_movies.sql'\n",
    "    password = open(\"credentials.txt\").read() # contains password\n",
    "    conn = mysql.connector.connect(host=host, \n",
    "                                   user=user,\n",
    "                                   password=password,\n",
    "                                   database=database_name)\n",
    "    \n",
    "    download_actors(conn)\n",
    "    download_directors(conn)\n",
    "    download_movies(conn)\n",
    "    download_movies_genres(conn)\n",
    "    download_directors_genres(conn)\n",
    "    download_movies_directors(conn)\n",
    "    download_roles(conn)\n",
    "\n",
    "    conn.commit()\n",
    "    \n",
    "main()"
   ]
  },
  {
   "cell_type": "markdown",
   "id": "14197d91",
   "metadata": {},
   "source": [
    "## Question 4: Write and execute a query that returns a count of all movies in the database where the rank column is not NULL. Print out only the count.\n"
   ]
  },
  {
   "cell_type": "code",
   "execution_count": 18,
   "id": "50e2db22",
   "metadata": {},
   "outputs": [
    {
     "name": "stdout",
     "output_type": "stream",
     "text": [
      "All movies in the database where the rank column is not NULL: 67245\n"
     ]
    }
   ],
   "source": [
    "import mysql.connector\n",
    "def main():\n",
    "    host = 'localhost'\n",
    "    user = 'root'\n",
    "    database_name = 'imdb_movies'\n",
    "    ddl_file_path = 'imdb_movies.sql'\n",
    "    password = open(\"credentials.txt\").read() # contains password\n",
    "    conn = mysql.connector.connect(host=host, \n",
    "                                   user=user,\n",
    "                                   password=password,\n",
    "                                   database=database_name)\n",
    "    \n",
    "    cursor = conn.cursor()\n",
    "    cursor.execute(\"SELECT COUNT(*) FROM movies WHERE `rank` IS NOT NULL;\")\n",
    "    print(\"All movies in the database where the rank column is not NULL:\", cursor.fetchone()[0])\n",
    "    \n",
    "main()"
   ]
  }
 ],
 "metadata": {
  "kernelspec": {
   "display_name": "Python 3 (ipykernel)",
   "language": "python",
   "name": "python3"
  },
  "language_info": {
   "codemirror_mode": {
    "name": "ipython",
    "version": 3
   },
   "file_extension": ".py",
   "mimetype": "text/x-python",
   "name": "python",
   "nbconvert_exporter": "python",
   "pygments_lexer": "ipython3",
   "version": "3.9.12"
  }
 },
 "nbformat": 4,
 "nbformat_minor": 5
}
